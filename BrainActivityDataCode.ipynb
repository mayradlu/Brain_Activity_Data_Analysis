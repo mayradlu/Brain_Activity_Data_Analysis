{
  "cells": [
    {
      "cell_type": "markdown",
      "metadata": {
        "id": "vZPEvGumDLqR"
      },
      "source": [
        "#Proyecto"
      ]
    },
    {
      "cell_type": "markdown",
      "metadata": {
        "id": "qrL9ybf5ETy3"
      },
      "source": [
        "Utiliza la interfaz proporcionada por tu profesor para generar las matrices de características de tus datos, con los cuales vas a trabajar en las siguientes etapas de tu proyecto. En total, debes contar con los siguientes archivos:\n",
        "\n",
        "1. Para el experimento de tareas cognitivas, debes tener 3 archivos de características, uno por cada integrante de tu equipo.\n",
        "\n",
        "2. Para el experimento con el potencial P300, debes tener 2 archivos, de preferencia de sujetos distintos, con los cuales obtengas al menos 0.7 de sensibilidad por clase con la interfaz cerebro-computadora."
      ]
    },
    {
      "cell_type": "code",
      "execution_count": 1,
      "metadata": {
        "id": "ibasdpEMEVyL",
        "colab": {
          "base_uri": "https://localhost:8080/"
        },
        "outputId": "b866d8bb-24f3-43c3-b8fe-d4cc8d629e44"
      },
      "outputs": [
        {
          "output_type": "stream",
          "name": "stdout",
          "text": [
            "Mounted at /content/drive\n"
          ]
        }
      ],
      "source": [
        "from google.colab import drive\n",
        "drive.mount('/content/drive')"
      ]
    },
    {
      "cell_type": "markdown",
      "metadata": {
        "id": "msHGyLc9WGKk"
      },
      "source": [
        "###IMPORTAMOS LIBRERÍAS"
      ]
    },
    {
      "cell_type": "code",
      "execution_count": null,
      "metadata": {
        "id": "tFbtB53ZEm3j"
      },
      "outputs": [],
      "source": [
        "import numpy as np\n",
        "import pandas as pd\n",
        "import matplotlib.pyplot as plt\n",
        "from sklearn import svm, neighbors\n",
        "from sklearn.svm import SVC, SVR\n",
        "from sklearn.model_selection import StratifiedKFold\n",
        "from sklearn.metrics import classification_report, accuracy_score, recall_score, precision_score\n",
        "from sklearn.feature_selection import SelectKBest, mutual_info_classif, SequentialFeatureSelector, RFE\n",
        "from sklearn.model_selection import train_test_split\n",
        "from sklearn.neural_network import MLPClassifier\n",
        "from sklearn.neighbors import KNeighborsClassifier\n",
        "from sklearn import svm\n",
        "from sklearn.tree import DecisionTreeClassifier\n",
        "from sklearn.ensemble import RandomForestClassifier\n",
        "from sklearn.model_selection import GridSearchCV"
      ]
    },
    {
      "cell_type": "markdown",
      "metadata": {
        "id": "5bkT53CTWEGP"
      },
      "source": [
        "###CREAMOS BASE DE DATOS"
      ]
    },
    {
      "cell_type": "code",
      "execution_count": null,
      "metadata": {
        "id": "NbaOGFJ2Ee8X"
      },
      "outputs": [],
      "source": [
        "cogR = pd.read_csv(\"/content/drive/MyDrive/Datosquefuncionan/ex2verdaderop1raul.txt\", header=None, delimiter = \"\\t\")\n",
        "P300A = pd.read_csv(\"/content/drive/MyDrive/Datosquefuncionan/ex1verdaderop2tono.txt\", header=None, delimiter = \"\\t\")\n",
        "cogA = pd.read_csv(\"/content/drive/MyDrive/Datosquefuncionan/ex2verdaderop1tono.txt\", header=None, delimiter = \"\\t\")\n",
        "P300M = pd.read_csv(\"/content/drive/MyDrive/Datosquefuncionan/ex1verdaderop1mayra.txt\", header=None, delimiter = \"\\t\")\n",
        "cogM = pd.read_csv(\"/content/drive/MyDrive/Datosquefuncionan/ex2verdaderop2mayra.txt\", header=None, delimiter = \"\\t\")"
      ]
    },
    {
      "cell_type": "code",
      "execution_count": null,
      "metadata": {
        "id": "EEDhiNedVFgl"
      },
      "outputs": [],
      "source": [
        "cogR = cogR.dropna(axis=1)\n",
        "P300A = P300A.dropna(axis=1)\n",
        "cogA = cogA.dropna(axis=1)\n",
        "P300M = P300M.dropna(axis=1)\n",
        "cogM = cogM.dropna(axis=1)"
      ]
    },
    {
      "cell_type": "markdown",
      "metadata": {
        "id": "U_Iv4ALLUSZb"
      },
      "source": [
        "###CREAMOS FUNCIONES CON CLASIFICADORES\n",
        "\n"
      ]
    },
    {
      "cell_type": "code",
      "execution_count": null,
      "metadata": {
        "id": "58P6dW05UUU4"
      },
      "outputs": [],
      "source": [
        "#CLASIFICADOR SVM, VISTO EN CLASE\n",
        "def svm_classifier(x, y):\n",
        "\n",
        "    # Separación de datos\n",
        "    x_train, x_test, y_train, y_test = train_test_split(x, y, test_size=0.2, random_state=42)\n",
        "\n",
        "    # Crear un clasificador SVM\n",
        "    classifier = svm.SVC()\n",
        "\n",
        "    # Ajustar el clasificador a los datos de entrenamiento\n",
        "    classifier.fit(x_train, y_train)\n",
        "\n",
        "    # Predecir las etiquetas para los datos de entrenamiento\n",
        "    y_pred = classifier.predict(x_test)\n",
        "\n",
        "    # Imprimir el informe del clasificador\n",
        "    print(classification_report(y_test, y_pred, zero_division=1))\n",
        "\n",
        "#CLASIFICADOR KNN, VISTO EN CLASE\n",
        "def knn_classifier(x, y, k):\n",
        "\n",
        "    # Separación de datos\n",
        "    x_train, x_test, y_train, y_test = train_test_split(x, y, test_size=0.2, random_state=42)\n",
        "\n",
        "    # Crear un clasificador KNN\n",
        "    classifier = KNeighborsClassifier(n_neighbors = int(k))\n",
        "\n",
        "    # Ajustar el clasificador a los datos de entrenamiento\n",
        "    classifier.fit(x_train, y_train)\n",
        "\n",
        "    # Predecir las etiquetas para los datos de entrenamiento\n",
        "    y_pred = classifier.predict(x_test)\n",
        "\n",
        "    # Imprimir el informe del clasificador\n",
        "    print(classification_report(y_test, y_pred, zero_division=1))\n",
        "\n",
        "#CLASIFICADOR MLP, VISTO EN CLASE\n",
        "def perceptron(x , y, capas):\n",
        "\n",
        "  clf = MLPClassifier(hidden_layer_sizes=capas, max_iter=10000)  # hidden_layer_sizes controls the number of neurons of each hidden layer.\n",
        "  clf.fit(x, y)\n",
        "\n",
        "\n",
        "  # 5-fold cross-validation\n",
        "  kf = StratifiedKFold(n_splits=5, shuffle = True)\n",
        "\n",
        "  cv_y_test = []\n",
        "  cv_y_pred = []\n",
        "\n",
        "  for train_index, test_index in kf.split(x, y):\n",
        "\n",
        "      # Training phase\n",
        "      x_train = x[train_index, :]\n",
        "      y_train = y[train_index]\n",
        "\n",
        "      clf_i = MLPClassifier(hidden_layer_sizes=capas, max_iter=10000)\n",
        "      clf_i.fit(x_train, y_train)\n",
        "\n",
        "      # Test phase\n",
        "      x_test = x[test_index, :]\n",
        "      y_test = y[test_index]\n",
        "      y_pred = clf_i.predict(x_test)\n",
        "\n",
        "      cv_y_test.append(y_test)\n",
        "      cv_y_pred.append(y_pred)\n",
        "\n",
        "      print(classification_report(y_test, y_pred, zero_division=1))\n",
        "\n",
        "  # Model performance\n",
        "  print(\"Resultados del clasificador:\\n\\n\", classification_report(np.concatenate(cv_y_test), np.concatenate(cv_y_pred)))\n",
        "\n",
        "#CLASIFICADOR DECISION TREE CLASSIFIER, NO VISTO EN CLASE\n",
        "def DTC_classifier(x, y):\n",
        "\n",
        "    # Separación de datos\n",
        "    x_train, x_test, y_train, y_test = train_test_split(x, y, test_size=0.2, random_state=42)\n",
        "\n",
        "    # Crear un clasificador DTC\n",
        "    classifier = DecisionTreeClassifier(random_state=0)\n",
        "\n",
        "    # Ajustar el clasificador a los datos de entrenamiento\n",
        "    classifier.fit(x_train, y_train)\n",
        "\n",
        "    # Predecir las etiquetas para los datos de entrenamiento\n",
        "    y_pred = classifier.predict(x_test)\n",
        "\n",
        "    # Imprimir el informe del clasificador\n",
        "    print(classification_report(y_test, y_pred, zero_division=1))\n",
        "\n",
        "#CLASIFICADOR RANDOM FOREST CLASSIFIER, NO VISTO EN CLASE\n",
        "def RFC_classifier(x, y):\n",
        "\n",
        "    # Separación de datos\n",
        "    x_train, x_test, y_train, y_test = train_test_split(x, y, test_size=0.2, random_state=42)\n",
        "\n",
        "    # Crear un clasificador RFC\n",
        "    classifier = RandomForestClassifier()\n",
        "\n",
        "    # Ajustar el clasificador a los datos de entrenamiento\n",
        "    classifier.fit(x_train, y_train)\n",
        "\n",
        "    # Predecir las etiquetas para los datos de entrenamiento\n",
        "    y_pred = classifier.predict(x_test)\n",
        "\n",
        "    # Imprimir el informe del clasificador\n",
        "    print(classification_report(y_test, y_pred, zero_division=1))"
      ]
    },
    {
      "cell_type": "markdown",
      "metadata": {
        "id": "I1n--dvXDway"
      },
      "source": [
        "Evaluación de algoritmos de clasificación\n",
        "\n",
        "Para esta etapa del proyecto considera los siguientes casos:\n",
        "\n",
        "- Clasificación de potencial P300 vs no potencial P300. En este caso, deben de tener al menos 2 archivos de características.\n",
        "\n",
        "- Clasificación de no tarea cognitiva (cruz) vs tarea cognitiva. En este caso, deben tener al menos 3 archivos de características.\n",
        "\n",
        "- Clasificación de tarea de cálculo (9-12) vs tarea de lectura (5-8) vs tarea de nombres de cosas (1-4). En este caso, deben tener al menos 3 archivos de datos.\n"
      ]
    },
    {
      "cell_type": "markdown",
      "metadata": {
        "id": "_T96ONtkBjK4"
      },
      "source": [
        "## Puntos 1 y 2:\n",
        "\n",
        "1. Evalúe el rendimiento de los modelos de clasificación SVM, K-NN, y MLP (de al menos 2 capas). Calcule tanto la exactitud, la precisión por clase y el recall por clase para cada uno de los modelos.\n",
        "\n",
        "2. Seleccione dos modelos de clasificación no vistos en clase, y evalúelos con sus conjuntos de datos. Calcule tanto la exactitud, la precisión por clase y el recall por clase para cada uno de los modelos."
      ]
    },
    {
      "cell_type": "markdown",
      "metadata": {
        "id": "a_UG_OTfcktg"
      },
      "source": [
        "###Clasificación de potencial P300 vs no potencial P300"
      ]
    },
    {
      "cell_type": "code",
      "execution_count": null,
      "metadata": {
        "id": "OVlEZBuDZk5A"
      },
      "outputs": [],
      "source": [
        "# Datos de entrenamiento: P300 ANTONIO\n",
        "xA = P300A.iloc[:,1:].values\n",
        "yA = P300A.iloc[:,0].values\n",
        "\n",
        "# Datos de entrenamiento: P300 MAYRA\n",
        "xM = P300M.iloc[:,1:].values\n",
        "yM = P300M.iloc[:,0].values\n"
      ]
    },
    {
      "cell_type": "markdown",
      "metadata": {
        "id": "lmg2TNxCc8Pj"
      },
      "source": [
        "ANTONIO P300:\n",
        "\n",
        "\n",
        "\n"
      ]
    },
    {
      "cell_type": "code",
      "execution_count": null,
      "metadata": {
        "id": "zNr5uLYDF0-Y"
      },
      "outputs": [],
      "source": [
        "print(\"SVM\")\n",
        "svm_classifier(xA, yA)\n",
        "print(\"KNN\")\n",
        "knn_classifier(xA, yA, 8)\n",
        "print(\"MLP\")\n",
        "perceptron(xA, yA, 3)\n",
        "print(\"Decision Tree\")\n",
        "DTC_classifier(xA, yA)\n",
        "print(\"Random Forest\")\n",
        "RFC_classifier(xA, yA)"
      ]
    },
    {
      "cell_type": "markdown",
      "metadata": {
        "id": "YjY3KofNd8ss"
      },
      "source": [
        "MAYRA P300:\n",
        "\n",
        "\n"
      ]
    },
    {
      "cell_type": "code",
      "execution_count": null,
      "metadata": {
        "id": "xnhNS7OhGFSS"
      },
      "outputs": [],
      "source": [
        "print(\"SVM\")\n",
        "svm_classifier(xM, yM)\n",
        "print(\"KNN\")\n",
        "knn_classifier(xM, yM, 8)\n",
        "print(\"MLP\")\n",
        "perceptron(xM, yM, 3)\n",
        "print(\"Decision Tree\")\n",
        "DTC_classifier(xM, yM)\n",
        "print(\"Random Forest\")\n",
        "RFC_classifier(xM, yM)"
      ]
    },
    {
      "cell_type": "markdown",
      "metadata": {
        "id": "b_RiK16rlsIV"
      },
      "source": [
        "###Clasificación de tarea de cálculo (9-12) vs tarea de lectura (5-8) vs tarea de nombres de cosas (1-4)"
      ]
    },
    {
      "cell_type": "code",
      "execution_count": null,
      "metadata": {
        "id": "3Lki6Irbl1FW"
      },
      "outputs": [],
      "source": [
        "transformacion = lambda x: 1 if 1 <= x <= 4 else 2 if 5 <= x <= 8 else 3 if 9 <= x <= 12 else 4\n",
        "\n",
        "# Datos de entrenamiento: COGNITIVO ANTONIO\n",
        "cogA[0] = cogA[0].map(transformacion)\n",
        "\n",
        "xAc = cogA.iloc[:,1:].values\n",
        "yAc = cogA.iloc[:,0].values\n",
        "\n",
        "# Datos de entrenamiento: COGNITIVO MAYRA\n",
        "cogM[0] = cogM[0].map(transformacion)\n",
        "\n",
        "xMc = cogM.iloc[:,1:].values\n",
        "yMc = cogM.iloc[:,0].values\n",
        "\n",
        "# Datos de entrenamiento: COGNITIVO RAUL\n",
        "cogR[0] = cogR[0].map(transformacion)\n",
        "\n",
        "xRc = cogR.iloc[:,1:].values\n",
        "yRc = cogR.iloc[:,0].values"
      ]
    },
    {
      "cell_type": "markdown",
      "metadata": {
        "id": "SQQ8i7LSDvCx"
      },
      "source": [
        "Tareas cognitivas Antonio"
      ]
    },
    {
      "cell_type": "code",
      "execution_count": null,
      "metadata": {
        "id": "h7lVwXTjFV5I"
      },
      "outputs": [],
      "source": [
        "print(\"SVM\")\n",
        "svm_classifier(xAc, yAc)\n",
        "print(\"KNN\")\n",
        "knn_classifier(xAc, yAc, 8)\n",
        "print(\"MLP\")\n",
        "perceptron(xAc, yAc, 3)\n",
        "print(\"Decision Tree\")\n",
        "DTC_classifier(xAc, yAc)\n",
        "print(\"Random Forest\")\n",
        "RFC_classifier(xAc, yAc)"
      ]
    },
    {
      "cell_type": "markdown",
      "metadata": {
        "id": "VpzJLHRKFTBc"
      },
      "source": [
        "Tareas cognitivas Mayra"
      ]
    },
    {
      "cell_type": "code",
      "execution_count": null,
      "metadata": {
        "id": "9hBPAcg-FjmQ"
      },
      "outputs": [],
      "source": [
        "print(\"SVM\")\n",
        "svm_classifier(xMc, yMc)\n",
        "print(\"KNN\")\n",
        "knn_classifier(xMc, yMc, 8)\n",
        "print(\"MLP\")\n",
        "perceptron(xMc, yMc, 3)\n",
        "print(\"Decision Tree\")\n",
        "DTC_classifier(xMc, yMc)\n",
        "print(\"Random Forest\")\n",
        "RFC_classifier(xMc, yMc)"
      ]
    },
    {
      "cell_type": "markdown",
      "metadata": {
        "id": "-vIBkTNtFUNd"
      },
      "source": [
        "Tareas cognitivas Raul"
      ]
    },
    {
      "cell_type": "code",
      "execution_count": null,
      "metadata": {
        "colab": {
          "background_save": true
        },
        "id": "kp4Py2xSFRm_",
        "outputId": "f8c7b70f-34e7-425d-e396-b63c955ebcf4"
      },
      "outputs": [
        {
          "name": "stdout",
          "output_type": "stream",
          "text": [
            "SVM\n",
            "              precision    recall  f1-score   support\n",
            "\n",
            "           1       1.00      0.00      0.00        11\n",
            "           2       1.00      0.00      0.00        10\n",
            "           3       1.00      0.00      0.00        13\n",
            "           4       0.38      1.00      0.55        21\n",
            "\n",
            "    accuracy                           0.38        55\n",
            "   macro avg       0.85      0.25      0.14        55\n",
            "weighted avg       0.76      0.38      0.21        55\n",
            "\n",
            "KNN\n",
            "              precision    recall  f1-score   support\n",
            "\n",
            "           1       0.70      0.64      0.67        11\n",
            "           2       1.00      0.90      0.95        10\n",
            "           3       0.75      0.23      0.35        13\n",
            "           4       0.59      0.90      0.72        21\n",
            "\n",
            "    accuracy                           0.69        55\n",
            "   macro avg       0.76      0.67      0.67        55\n",
            "weighted avg       0.73      0.69      0.66        55\n",
            "\n",
            "MLP\n",
            "              precision    recall  f1-score   support\n",
            "\n",
            "           1       0.20      0.08      0.12        12\n",
            "           2       0.37      0.91      0.53        11\n",
            "           3       1.00      0.00      0.00        11\n",
            "           4       0.78      0.86      0.82        21\n",
            "\n",
            "    accuracy                           0.53        55\n",
            "   macro avg       0.59      0.46      0.37        55\n",
            "weighted avg       0.62      0.53      0.44        55\n",
            "\n",
            "              precision    recall  f1-score   support\n",
            "\n",
            "           1       1.00      0.00      0.00        11\n",
            "           2       1.00      0.00      0.00        12\n",
            "           3       1.00      0.00      0.00        11\n",
            "           4       0.38      1.00      0.55        21\n",
            "\n",
            "    accuracy                           0.38        55\n",
            "   macro avg       0.85      0.25      0.14        55\n",
            "weighted avg       0.76      0.38      0.21        55\n",
            "\n",
            "              precision    recall  f1-score   support\n",
            "\n",
            "           1       1.00      0.00      0.00        11\n",
            "           2       1.00      0.00      0.00        11\n",
            "           3       1.00      0.00      0.00        12\n",
            "           4       0.38      1.00      0.55        21\n",
            "\n",
            "    accuracy                           0.38        55\n",
            "   macro avg       0.85      0.25      0.14        55\n",
            "weighted avg       0.76      0.38      0.21        55\n",
            "\n",
            "              precision    recall  f1-score   support\n",
            "\n",
            "           1       0.30      0.27      0.29        11\n",
            "           2       0.73      1.00      0.85        11\n",
            "           3       0.29      0.18      0.22        11\n",
            "           4       0.68      0.71      0.70        21\n",
            "\n",
            "    accuracy                           0.57        54\n",
            "   macro avg       0.50      0.54      0.51        54\n",
            "weighted avg       0.53      0.57      0.55        54\n",
            "\n",
            "              precision    recall  f1-score   support\n",
            "\n",
            "           1       1.00      0.00      0.00        11\n",
            "           2       1.00      0.00      0.00        11\n",
            "           3       1.00      0.00      0.00        11\n",
            "           4       0.39      1.00      0.56        21\n",
            "\n",
            "    accuracy                           0.39        54\n",
            "   macro avg       0.85      0.25      0.14        54\n",
            "weighted avg       0.76      0.39      0.22        54\n",
            "\n",
            "Resultados del clasificador:\n",
            "\n",
            "               precision    recall  f1-score   support\n",
            "\n",
            "           1       0.27      0.07      0.11        56\n",
            "           2       0.50      0.38      0.43        56\n",
            "           3       0.29      0.04      0.06        56\n",
            "           4       0.46      0.91      0.61       105\n",
            "\n",
            "    accuracy                           0.45       273\n",
            "   macro avg       0.38      0.35      0.30       273\n",
            "weighted avg       0.39      0.45      0.36       273\n",
            "\n",
            "Decision Tree\n",
            "              precision    recall  f1-score   support\n",
            "\n",
            "           1       0.30      0.27      0.29        11\n",
            "           2       0.71      0.50      0.59        10\n",
            "           3       0.43      0.46      0.44        13\n",
            "           4       0.58      0.67      0.62        21\n",
            "\n",
            "    accuracy                           0.51        55\n",
            "   macro avg       0.51      0.48      0.49        55\n",
            "weighted avg       0.51      0.51      0.51        55\n",
            "\n",
            "Random Forest\n",
            "              precision    recall  f1-score   support\n",
            "\n",
            "           1       0.70      0.64      0.67        11\n",
            "           2       1.00      0.90      0.95        10\n",
            "           3       0.33      0.15      0.21        13\n",
            "           4       0.60      0.86      0.71        21\n",
            "\n",
            "    accuracy                           0.65        55\n",
            "   macro avg       0.66      0.64      0.63        55\n",
            "weighted avg       0.63      0.65      0.62        55\n",
            "\n"
          ]
        }
      ],
      "source": [
        "print(\"SVM\")\n",
        "svm_classifier(xRc, yRc)\n",
        "print(\"KNN\")\n",
        "knn_classifier(xRc, yRc, 8)\n",
        "print(\"MLP\")\n",
        "perceptron(xRc, yRc, 3)\n",
        "print(\"Decision Tree\")\n",
        "DTC_classifier(xRc, yRc)\n",
        "print(\"Random Forest\")\n",
        "RFC_classifier(xRc, yRc)"
      ]
    },
    {
      "cell_type": "markdown",
      "metadata": {
        "id": "z6JVCOc0kHOY"
      },
      "source": [
        "###Clasificación de no tarea cognitiva (cruz) vs tarea cognitiva"
      ]
    },
    {
      "cell_type": "code",
      "execution_count": null,
      "metadata": {
        "id": "X1l9LKIMkN5J"
      },
      "outputs": [],
      "source": [
        "#Como se sobreescribe con respecto al anterior se pone esta nueva transformación.\n",
        "transformacion = lambda x: 1 if 1 <= x <= 3 else 4\n",
        "\n",
        "# Datos de entrenamiento: COGNITIVO ANTONIO\n",
        "cogA[0] = cogA[0].map(transformacion)\n",
        "\n",
        "xAcc = cogA.iloc[:,1:].values\n",
        "yAcc = cogA.iloc[:,0].values\n",
        "\n",
        "# Datos de entrenamiento: COGNITIVO MAYRA\n",
        "cogM[0] = cogM[0].map(transformacion)\n",
        "\n",
        "xMcc = cogM.iloc[:,1:].values\n",
        "yMcc = cogM.iloc[:,0].values\n",
        "\n",
        "# Datos de entrenamiento: COGNITIVO RAUL\n",
        "cogR[0] = cogR[0].map(transformacion)\n",
        "\n",
        "xRcc = cogR.iloc[:,1:].values\n",
        "yRcc = cogR.iloc[:,0].values"
      ]
    },
    {
      "cell_type": "markdown",
      "metadata": {
        "id": "q7YuZ5qwD1s1"
      },
      "source": [
        "Tarea Cognitivas vs no cognitivas Antonio"
      ]
    },
    {
      "cell_type": "code",
      "execution_count": null,
      "metadata": {
        "id": "leV4pZ34D_Qu"
      },
      "outputs": [],
      "source": [
        "print(\"SVM\")\n",
        "svm_classifier(xAcc, yAcc)\n",
        "print(\"KNN\")\n",
        "knn_classifier(xAcc, yAcc, 8)\n",
        "print(\"MLP\")\n",
        "perceptron(xAcc, yAcc, 3)\n",
        "print(\"Decision Tree\")\n",
        "DTC_classifier(xAcc, yAcc)\n",
        "print(\"Random Forest\")\n",
        "RFC_classifier(xAcc, yAcc)"
      ]
    },
    {
      "cell_type": "markdown",
      "metadata": {
        "id": "aUlOD7tVD4aL"
      },
      "source": [
        "Tarea Cognitivas vs no cognitivas Mayra"
      ]
    },
    {
      "cell_type": "code",
      "execution_count": null,
      "metadata": {
        "id": "utnvpTgqFA-U"
      },
      "outputs": [],
      "source": [
        "print(\"SVM\")\n",
        "svm_classifier(xMcc, yMcc)\n",
        "print(\"KNN\")\n",
        "knn_classifier(xMcc, yMcc, 8)\n",
        "print(\"MLP\")\n",
        "perceptron(xMcc, yMcc, 3)\n",
        "print(\"Decision Tree\")\n",
        "DTC_classifier(xMcc, yMcc)\n",
        "print(\"Random Forest\")\n",
        "RFC_classifier(xMcc, yMcc)"
      ]
    },
    {
      "cell_type": "markdown",
      "metadata": {
        "id": "ZjqAOnRnD5de"
      },
      "source": [
        "Tarea cognitivas vs no cognitivas Raul"
      ]
    },
    {
      "cell_type": "code",
      "execution_count": null,
      "metadata": {
        "id": "9zCkLC-bFGm9"
      },
      "outputs": [],
      "source": [
        "print(\"SVM\")\n",
        "svm_classifier(xRcc, yRcc)\n",
        "print(\"KNN\")\n",
        "knn_classifier(xRcc, yRcc, 8)\n",
        "print(\"MLP\")\n",
        "perceptron(xRcc, yRcc, 3)\n",
        "print(\"Decision Tree\")\n",
        "DTC_classifier(xRcc, yRcc)\n",
        "print(\"Random Forest\")\n",
        "RFC_classifier(xRcc, yRcc)"
      ]
    },
    {
      "cell_type": "markdown",
      "metadata": {
        "id": "F7oFWY5wfosV"
      },
      "source": [
        "## Punto 3. Indique qué modelos de clasificación de los que evaluó anteriormente tienen hiperparámetros y cuáles son éstos en cada caso. Seleccione uno de estos clasificadores, y determine sus hiperparámetros óptimos."
      ]
    },
    {
      "cell_type": "markdown",
      "metadata": {
        "id": "8ZzKGff07wLx"
      },
      "source": [
        "### SVM (Support Vector Machines):\n",
        "\n",
        "SVM es un clasificador que busca encontrar un hiperplano óptimo para separar los datos en diferentes clases. Busca maximizar el margen entre las clases y utiliza vectores de soporte, que son los puntos de datos más cercanos al hiperplano de separación\n",
        "\n",
        "C: Controla el balance entre la clasificación correcta y la maximización del margen. Un valor más alto de C permite una clasificación más precisa pero puede llevar a un sobreajuste.\n",
        "\n",
        "Kernel: Define la función de transformación que se utiliza para mapear los datos a un espacio dimensional superior. Los kernels comunes incluyen lineal, polinómico y radial basis function (RBF).\n",
        "\n",
        "### KNN (K-Nearest Neighbors):\n",
        "\n",
        "KNN clasifica un punto de datos desconocido asignándole la etiqueta de clase más común entre sus vecinos más cercanos en el espacio de características. Los vecinos se seleccionan según una medida de distancia, generalmente la distancia euclidiana.\n",
        "\n",
        "K: Especifica el número de vecinos más cercanos que se consideran al realizar una clasificación. Un valor más alto de K suaviza la decisión y puede reducir el ruido, pero también puede llevar a una clasificación menos precisa.\n",
        "\n",
        "### MLP (Multilayer Perceptron):\n",
        "\n",
        "MLP es una red neuronal artificial que consta de múltiples capas de unidades llamadas neuronas. Las neuronas se organizan en capas de entrada, ocultas y de salida, y utilizan una función de activación para introducir no linealidad. El MLP aprende a través de retropropagación del error y ajusta los pesos de las conexiones para mejorar la precisión de la clasificación.\n",
        "\n",
        "Número y tamaño de las capas ocultas: Especifica el número de capas ocultas y el número de neuronas en cada capa oculta. Más capas y neuronas pueden aumentar la capacidad del modelo, pero también pueden conducir a un sobreajuste.\n",
        "\n",
        "Función de activación: Define la función que se aplica a la salida de cada neurona. Algunas funciones comunes incluyen la función sigmoide, la función ReLU y la función tangente hiperbólica.\n",
        "\n",
        "### Decision Tree/Árbol de decisión:\n",
        "\n",
        "Un árbol de decisión divide repetidamente el conjunto de datos en subconjuntos más pequeños según las características relevantes. Cada división se basa en una regla o criterio que maximiza la homogeneidad dentro de cada subconjunto y la heterogeneidad entre los subconjuntos.\n",
        "\n",
        "Criterio de división: Especifica el criterio utilizado para medir la calidad de una división. Algunos criterios comunes son la ganancia de información (information gain) y el índice Gini.\n",
        "\n",
        "Profundidad máxima del árbol: Controla la cantidad máxima de divisiones o niveles en el árbol. Un árbol más profundo puede capturar relaciones más complejas en los datos, pero también puede llevar a un sobreajuste.\n",
        "\n",
        "###Random Forest:\n",
        "\n",
        "Un Random Forest es un conjunto de árboles de decisión. Cada árbol se entrena con una muestra aleatoria del conjunto de datos y realiza una clasificación individual. La clasificación final se obtiene por votación o promediado de las clasificaciones de los árboles individuales.\n",
        "\n",
        "Número de árboles: Especifica la cantidad de árboles de decisión en el bosque. Un mayor número de árboles generalmente reduce el sobreajuste y mejora la precisión, pero también aumenta el costo computacional.\n",
        "\n",
        "Tamaño de muestra: Controla el tamaño de la muestra utilizada para entrenar cada árbol individual. Un tamaño de muestra más pequeño puede introducir variabilidad y aumentar la diversidad del bosque."
      ]
    },
    {
      "cell_type": "code",
      "execution_count": null,
      "metadata": {
        "id": "oQ9HZszf8rrx",
        "colab": {
          "base_uri": "https://localhost:8080/"
        },
        "outputId": "fcd0aaa8-f99f-49e6-c76f-c2b039142f06"
      },
      "outputs": [
        {
          "output_type": "stream",
          "name": "stdout",
          "text": [
            "Hiperparámetros óptimos para SVM:\n",
            "{'C': 0.1, 'kernel': 'linear'}\n",
            "\n"
          ]
        }
      ],
      "source": [
        "# Hiperparámetros de los modelos de clasificación evaluados anteriormente\n",
        "# Modelos de clasificación\n",
        "models = {\n",
        "    'SVM': svm.SVC(),\n",
        "    'K-NN': neighbors.KNeighborsClassifier(),\n",
        "    'MLP': MLPClassifier(hidden_layer_sizes=(16, 8), max_iter=1000)\n",
        "}\n",
        "\n",
        "hyperparameters = {\n",
        "    'SVM': {\n",
        "        'C': [0.1, 1, 10],\n",
        "        'kernel': ['linear', 'rbf']\n",
        "    },\n",
        "    'K-NN': {\n",
        "        'n_neighbors': [3, 5, 7],\n",
        "    },\n",
        "    'MLP': {\n",
        "        'hidden_layer_sizes': [(16,), (16, 8), (32, 16)],\n",
        "        'activation': ['relu', 'logistic']\n",
        "    }\n",
        "}\n",
        "\n",
        "# Ajuste de hiperparámetros óptimos para el modelo seleccionado (SVM)\n",
        "grid_search = GridSearchCV(models['SVM'], hyperparameters['SVM'], cv=3)\n",
        "grid_search.fit(xA, yA)\n",
        "\n",
        "# Hiperparámetros óptimos encontrados\n",
        "best_params = grid_search.best_params_\n",
        "\n",
        "print(f\"Hiperparámetros óptimos para {'SVM'}:\")\n",
        "print(best_params)\n",
        "print()"
      ]
    },
    {
      "cell_type": "markdown",
      "metadata": {
        "id": "RyNNJSs3AZh_"
      },
      "source": [
        "Utilizamos la función GridSearch para encontrar los mejores parámetros. Aquí lo probamos con el clasificador SVM, conocido por tener éxito en pruebas de P300. nos define como mejores parámetros una C baja y un kernel linear."
      ]
    },
    {
      "cell_type": "markdown",
      "metadata": {
        "id": "Iy0rzK79AnTn"
      },
      "source": [
        "Adicionalmente hacemos varias pruebas para el clasificador K-NN para probar las mejores K:"
      ]
    },
    {
      "cell_type": "code",
      "execution_count": null,
      "metadata": {
        "id": "3FYNBbohgQmb",
        "colab": {
          "base_uri": "https://localhost:8080/"
        },
        "outputId": "a86713a9-24f7-4bee-c6c1-82a4c3fc98e4"
      },
      "outputs": [
        {
          "output_type": "stream",
          "name": "stdout",
          "text": [
            "\n",
            "Para k 1 los resultados son: \n",
            "              precision    recall  f1-score   support\n",
            "\n",
            "           1       0.38      0.32      0.34        57\n",
            "           2       0.83      0.86      0.85       222\n",
            "\n",
            "    accuracy                           0.75       279\n",
            "   macro avg       0.60      0.59      0.60       279\n",
            "weighted avg       0.74      0.75      0.74       279\n",
            "\n",
            "\n",
            "Para k 2 los resultados son: \n",
            "              precision    recall  f1-score   support\n",
            "\n",
            "           1       0.44      0.65      0.52        57\n",
            "           2       0.90      0.79      0.84       222\n",
            "\n",
            "    accuracy                           0.76       279\n",
            "   macro avg       0.67      0.72      0.68       279\n",
            "weighted avg       0.80      0.76      0.78       279\n",
            "\n",
            "\n",
            "Para k 3 los resultados son: \n",
            "              precision    recall  f1-score   support\n",
            "\n",
            "           1       0.57      0.35      0.43        57\n",
            "           2       0.85      0.93      0.89       222\n",
            "\n",
            "    accuracy                           0.81       279\n",
            "   macro avg       0.71      0.64      0.66       279\n",
            "weighted avg       0.79      0.81      0.80       279\n",
            "\n",
            "\n",
            "Para k 4 los resultados son: \n",
            "              precision    recall  f1-score   support\n",
            "\n",
            "           1       0.58      0.54      0.56        57\n",
            "           2       0.88      0.90      0.89       222\n",
            "\n",
            "    accuracy                           0.83       279\n",
            "   macro avg       0.73      0.72      0.73       279\n",
            "weighted avg       0.82      0.83      0.83       279\n",
            "\n",
            "\n",
            "Para k 5 los resultados son: \n",
            "              precision    recall  f1-score   support\n",
            "\n",
            "           1       0.73      0.33      0.46        57\n",
            "           2       0.85      0.97      0.91       222\n",
            "\n",
            "    accuracy                           0.84       279\n",
            "   macro avg       0.79      0.65      0.68       279\n",
            "weighted avg       0.83      0.84      0.81       279\n",
            "\n",
            "\n",
            "Para k 6 los resultados son: \n",
            "              precision    recall  f1-score   support\n",
            "\n",
            "           1       0.72      0.40      0.52        57\n",
            "           2       0.86      0.96      0.91       222\n",
            "\n",
            "    accuracy                           0.85       279\n",
            "   macro avg       0.79      0.68      0.71       279\n",
            "weighted avg       0.83      0.85      0.83       279\n",
            "\n",
            "\n",
            "Para k 7 los resultados son: \n",
            "              precision    recall  f1-score   support\n",
            "\n",
            "           1       0.75      0.26      0.39        57\n",
            "           2       0.84      0.98      0.90       222\n",
            "\n",
            "    accuracy                           0.83       279\n",
            "   macro avg       0.79      0.62      0.65       279\n",
            "weighted avg       0.82      0.83      0.80       279\n",
            "\n",
            "\n",
            "Para k 8 los resultados son: \n",
            "              precision    recall  f1-score   support\n",
            "\n",
            "           1       0.68      0.30      0.41        57\n",
            "           2       0.84      0.96      0.90       222\n",
            "\n",
            "    accuracy                           0.83       279\n",
            "   macro avg       0.76      0.63      0.66       279\n",
            "weighted avg       0.81      0.83      0.80       279\n",
            "\n"
          ]
        }
      ],
      "source": [
        "for i in range(1, 9):\n",
        "  print(f\"\\nPara k {i} los resultados son: \")\n",
        "  knn_classifier(xA, yA, i)"
      ]
    },
    {
      "cell_type": "markdown",
      "metadata": {
        "id": "jrnSztHUhFaH"
      },
      "source": [
        "## Punto 4. Para uno de los modelos de clasificación, aplique un método de selección de características. Indique cuantas características son suficientes para obtener buenos resultados."
      ]
    },
    {
      "cell_type": "markdown",
      "metadata": {
        "id": "hhcyhNd-iQX_"
      },
      "source": [
        "###P300 ANTONIO"
      ]
    },
    {
      "cell_type": "code",
      "execution_count": null,
      "metadata": {
        "id": "hdK8zMP5hHJ3",
        "colab": {
          "base_uri": "https://localhost:8080/",
          "height": 909
        },
        "outputId": "f20e3bd0-86ba-4452-e98d-870b23cedfc0"
      },
      "outputs": [
        {
          "output_type": "stream",
          "name": "stdout",
          "text": [
            "--------------- Filter feature selection, k = 1\n"
          ]
        },
        {
          "output_type": "stream",
          "name": "stderr",
          "text": [
            "/usr/local/lib/python3.10/dist-packages/sklearn/metrics/_classification.py:1344: UndefinedMetricWarning: Precision is ill-defined and being set to 0.0 in labels with no predicted samples. Use `zero_division` parameter to control this behavior.\n",
            "  _warn_prf(average, modifier, msg_start, len(result))\n"
          ]
        },
        {
          "output_type": "stream",
          "name": "stdout",
          "text": [
            "ACC:  0.8 Recall:  [0. 1.] Precision:  [0.  0.8]\n",
            "--------------- Filter feature selection, k = 2\n"
          ]
        },
        {
          "output_type": "stream",
          "name": "stderr",
          "text": [
            "/usr/local/lib/python3.10/dist-packages/sklearn/metrics/_classification.py:1344: UndefinedMetricWarning: Precision is ill-defined and being set to 0.0 in labels with no predicted samples. Use `zero_division` parameter to control this behavior.\n",
            "  _warn_prf(average, modifier, msg_start, len(result))\n"
          ]
        },
        {
          "output_type": "stream",
          "name": "stdout",
          "text": [
            "ACC:  0.8 Recall:  [0. 1.] Precision:  [0.  0.8]\n",
            "--------------- Filter feature selection, k = 3\n",
            "ACC:  0.8258064516129032 Recall:  [0.2078853  0.98028674] Precision:  [0.725      0.83193916]\n",
            "--------------- Filter feature selection, k = 4\n",
            "ACC:  0.839426523297491 Recall:  [0.3046595  0.97311828] Precision:  [0.73913043 0.8484375 ]\n",
            "--------------- Filter feature selection, k = 5\n",
            "ACC:  0.8594982078853046 Recall:  [0.44444444 0.96326165] Precision:  [0.75151515 0.87398374]\n",
            "--------------- Filter feature selection, k = 6\n",
            "ACC:  0.8652329749103943 Recall:  [0.43727599 0.97222222] Precision:  [0.79738562 0.87359098]\n",
            "--------------- Filter feature selection, k = 7\n",
            "ACC:  0.8695340501792115 Recall:  [0.48387097 0.96594982] Precision:  [0.78034682 0.88216039]\n",
            "--------------- Filter feature selection, k = 8\n",
            "ACC:  0.864516129032258 Recall:  [0.4874552  0.95878136] Precision:  [0.74725275 0.88211047]\n",
            "--------------- Filter feature selection, k = 9\n",
            "ACC:  0.8637992831541219 Recall:  [0.49103943 0.95698925] Precision:  [0.74054054 0.88264463]\n",
            "--------------- Filter feature selection, k = 10\n",
            "ACC:  0.8637992831541219 Recall:  [0.49820789 0.95519713] Precision:  [0.73544974 0.88391376]\n"
          ]
        },
        {
          "output_type": "display_data",
          "data": {
            "text/plain": [
              "<Figure size 640x480 with 1 Axes>"
            ],
            "image/png": "[encoded data removed]"
          },
          "metadata": {}
        }
      ],
      "source": [
        "# Use the filter approach for feature selection\n",
        "ks = np.arange(1, 11, 1)\n",
        "accs = []\n",
        "clf = SVC(kernel='linear')\n",
        "kf = StratifiedKFold(n_splits=5, shuffle = True)\n",
        "for k in ks:\n",
        "    print('--------------- Filter feature selection, k =', k)\n",
        "\n",
        "    cv_y_test = []\n",
        "    cv_y_pred = []\n",
        "\n",
        "    for train_index, test_index in kf.split(xA, yA):\n",
        "\n",
        "       # Training phase\n",
        "        x_train = xA[train_index, :]\n",
        "        y_train = yA[train_index]\n",
        "\n",
        "        ffs = SelectKBest(mutual_info_classif, k=k)\n",
        "        ffs.fit(x_train, y_train)\n",
        "        x_train = ffs.transform(x_train)\n",
        "\n",
        "        clf.fit(x_train, y_train)\n",
        "\n",
        "        # Test phase\n",
        "        x_test = ffs.transform(xA[test_index, :])\n",
        "        y_test = yA[test_index]\n",
        "        y_pred = clf.predict(x_test)\n",
        "\n",
        "        cv_y_test.append(y_test)\n",
        "        cv_y_pred.append(y_pred)\n",
        "\n",
        "    acc = accuracy_score(np.concatenate(cv_y_test), np.concatenate(cv_y_pred))\n",
        "    rec = recall_score(np.concatenate(cv_y_test), np.concatenate(cv_y_pred), average = None)\n",
        "    pre = precision_score(np.concatenate(cv_y_test), np.concatenate(cv_y_pred), average = None)\n",
        "\n",
        "    print('ACC: ', acc, 'Recall: ', rec, 'Precision: ', pre)\n",
        "    accs.append(acc)\n",
        "\n",
        "plt.plot(ks, accs)\n",
        "plt.xlabel('k')\n",
        "plt.ylabel('Accuracy')\n",
        "plt.title('Univariate filter for feature selection')\n",
        "plt.show()\n"
      ]
    },
    {
      "cell_type": "markdown",
      "metadata": {
        "id": "ow_ah_-ZizJC"
      },
      "source": [
        "###P300 MAYRA"
      ]
    },
    {
      "cell_type": "code",
      "execution_count": null,
      "metadata": {
        "id": "0PLWbzHIizJD",
        "colab": {
          "base_uri": "https://localhost:8080/",
          "height": 909
        },
        "outputId": "14ae41b6-f995-49f1-9bad-c4baf75bf7f9"
      },
      "outputs": [
        {
          "output_type": "stream",
          "name": "stdout",
          "text": [
            "--------------- Filter feature selection, k = 1\n"
          ]
        },
        {
          "output_type": "stream",
          "name": "stderr",
          "text": [
            "/usr/local/lib/python3.10/dist-packages/sklearn/metrics/_classification.py:1344: UndefinedMetricWarning: Precision is ill-defined and being set to 0.0 in labels with no predicted samples. Use `zero_division` parameter to control this behavior.\n",
            "  _warn_prf(average, modifier, msg_start, len(result))\n"
          ]
        },
        {
          "output_type": "stream",
          "name": "stdout",
          "text": [
            "ACC:  0.7982456140350878 Recall:  [0. 1.] Precision:  [0.         0.79824561]\n",
            "--------------- Filter feature selection, k = 2\n"
          ]
        },
        {
          "output_type": "stream",
          "name": "stderr",
          "text": [
            "/usr/local/lib/python3.10/dist-packages/sklearn/metrics/_classification.py:1344: UndefinedMetricWarning: Precision is ill-defined and being set to 0.0 in labels with no predicted samples. Use `zero_division` parameter to control this behavior.\n",
            "  _warn_prf(average, modifier, msg_start, len(result))\n"
          ]
        },
        {
          "output_type": "stream",
          "name": "stdout",
          "text": [
            "ACC:  0.7982456140350878 Recall:  [0. 1.] Precision:  [0.         0.79824561]\n",
            "--------------- Filter feature selection, k = 3\n",
            "ACC:  0.8070175438596491 Recall:  [0.05434783 0.99725275] Precision:  [0.83333333 0.80666667]\n",
            "--------------- Filter feature selection, k = 4\n",
            "ACC:  0.8004385964912281 Recall:  [0.06521739 0.98626374] Precision:  [0.54545455 0.80674157]\n",
            "--------------- Filter feature selection, k = 5\n",
            "ACC:  0.8092105263157895 Recall:  [0.15217391 0.97527473] Precision:  [0.60869565 0.81986143]\n",
            "--------------- Filter feature selection, k = 6\n",
            "ACC:  0.8070175438596491 Recall:  [0.11956522 0.98076923] Precision:  [0.61111111 0.81506849]\n",
            "--------------- Filter feature selection, k = 7\n",
            "ACC:  0.831140350877193 Recall:  [0.23913043 0.98076923] Precision:  [0.75862069 0.83606557]\n",
            "--------------- Filter feature selection, k = 8\n",
            "ACC:  0.8114035087719298 Recall:  [0.26086957 0.95054945] Precision:  [0.57142857 0.83574879]\n",
            "--------------- Filter feature selection, k = 9\n",
            "ACC:  0.8355263157894737 Recall:  [0.25       0.98351648] Precision:  [0.79310345 0.83840749]\n",
            "--------------- Filter feature selection, k = 10\n",
            "ACC:  0.8333333333333334 Recall:  [0.34782609 0.95604396] Precision:  [0.66666667 0.85294118]\n"
          ]
        },
        {
          "output_type": "display_data",
          "data": {
            "text/plain": [
              "<Figure size 640x480 with 1 Axes>"
            ],
            "image/png": "[encoded data removed]"
          },
          "metadata": {}
        }
      ],
      "source": [
        "# Use the filter approach for feature selection\n",
        "ks = np.arange(1, 11, 1)\n",
        "accs = []\n",
        "clf = SVC(kernel='linear')\n",
        "kf = StratifiedKFold(n_splits=5, shuffle = True)\n",
        "for k in ks:\n",
        "    print('--------------- Filter feature selection, k =', k)\n",
        "\n",
        "    cv_y_test = []\n",
        "    cv_y_pred = []\n",
        "\n",
        "    for train_index, test_index in kf.split(xM, yM):\n",
        "\n",
        "       # Training phase\n",
        "        x_train = xM[train_index, :]\n",
        "        y_train = yM[train_index]\n",
        "\n",
        "        ffs = SelectKBest(mutual_info_classif, k=k)\n",
        "        ffs.fit(x_train, y_train)\n",
        "        x_train = ffs.transform(x_train)\n",
        "\n",
        "        clf.fit(x_train, y_train)\n",
        "\n",
        "        # Test phase\n",
        "        x_test = ffs.transform(xM[test_index, :])\n",
        "        y_test = yM[test_index]\n",
        "        y_pred = clf.predict(x_test)\n",
        "\n",
        "        cv_y_test.append(y_test)\n",
        "        cv_y_pred.append(y_pred)\n",
        "\n",
        "    acc = accuracy_score(np.concatenate(cv_y_test), np.concatenate(cv_y_pred))\n",
        "    rec = recall_score(np.concatenate(cv_y_test), np.concatenate(cv_y_pred), average = None)\n",
        "    pre = precision_score(np.concatenate(cv_y_test), np.concatenate(cv_y_pred), average = None)\n",
        "\n",
        "    print('ACC: ', acc, 'Recall: ', rec, 'Precision: ', pre)\n",
        "    accs.append(acc)\n",
        "\n",
        "plt.plot(ks, accs)\n",
        "plt.xlabel('k')\n",
        "plt.ylabel('Accuracy')\n",
        "plt.title('Univariate filter for feature selection')\n",
        "plt.show()"
      ]
    },
    {
      "cell_type": "markdown",
      "metadata": {
        "id": "ahP1af0RTnIV"
      },
      "source": [
        "###Cognitivas Antonio"
      ]
    },
    {
      "cell_type": "code",
      "execution_count": null,
      "metadata": {
        "id": "gQF5OTcGTnIV",
        "colab": {
          "base_uri": "https://localhost:8080/",
          "height": 909
        },
        "outputId": "65966e92-bc78-4253-9a52-cc949ffd723e"
      },
      "outputs": [
        {
          "output_type": "stream",
          "name": "stdout",
          "text": [
            "--------------- Filter feature selection, k = 1\n"
          ]
        },
        {
          "output_type": "stream",
          "name": "stderr",
          "text": [
            "/usr/local/lib/python3.10/dist-packages/sklearn/metrics/_classification.py:1344: UndefinedMetricWarning: Precision is ill-defined and being set to 0.0 in labels with no predicted samples. Use `zero_division` parameter to control this behavior.\n",
            "  _warn_prf(average, modifier, msg_start, len(result))\n"
          ]
        },
        {
          "output_type": "stream",
          "name": "stdout",
          "text": [
            "ACC:  0.39492753623188404 Recall:  [0.03571429 0.16071429 0.         0.90740741] Precision:  [0.4        0.33333333 0.         0.40163934]\n",
            "--------------- Filter feature selection, k = 2\n"
          ]
        },
        {
          "output_type": "stream",
          "name": "stderr",
          "text": [
            "/usr/local/lib/python3.10/dist-packages/sklearn/metrics/_classification.py:1344: UndefinedMetricWarning: Precision is ill-defined and being set to 0.0 in labels with no predicted samples. Use `zero_division` parameter to control this behavior.\n",
            "  _warn_prf(average, modifier, msg_start, len(result))\n"
          ]
        },
        {
          "output_type": "stream",
          "name": "stdout",
          "text": [
            "ACC:  0.40942028985507245 Recall:  [0.05357143 0.10714286 0.         0.96296296] Precision:  [0.5        0.5        0.         0.40310078]\n",
            "--------------- Filter feature selection, k = 3\n",
            "ACC:  0.4420289855072464 Recall:  [0.08928571 0.32142857 0.         0.91666667] Precision:  [0.625      0.41860465 0.         0.44196429]\n",
            "--------------- Filter feature selection, k = 4\n",
            "ACC:  0.41304347826086957 Recall:  [0.03571429 0.35714286 0.01785714 0.84259259] Precision:  [0.22222222 0.39215686 0.16666667 0.43333333]\n",
            "--------------- Filter feature selection, k = 5\n",
            "ACC:  0.4311594202898551 Recall:  [0.10714286 0.35714286 0.05357143 0.83333333] Precision:  [0.4        0.34482759 0.27272727 0.46875   ]\n",
            "--------------- Filter feature selection, k = 6\n",
            "ACC:  0.4782608695652174 Recall:  [0.14285714 0.5        0.03571429 0.87037037] Precision:  [0.5        0.45901639 0.22222222 0.49473684]\n",
            "--------------- Filter feature selection, k = 7\n",
            "ACC:  0.45652173913043476 Recall:  [0.10714286 0.55357143 0.03571429 0.80555556] Precision:  [0.4        0.44927536 0.18181818 0.48066298]\n",
            "--------------- Filter feature selection, k = 8\n",
            "ACC:  0.4963768115942029 Recall:  [0.17857143 0.58928571 0.125      0.80555556] Precision:  [0.24390244 0.515625   0.36842105 0.57236842]\n",
            "--------------- Filter feature selection, k = 9\n",
            "ACC:  0.4746376811594203 Recall:  [0.16071429 0.60714286 0.08928571 0.76851852] Precision:  [0.34615385 0.48571429 0.25       0.51875   ]\n",
            "--------------- Filter feature selection, k = 10\n",
            "ACC:  0.4746376811594203 Recall:  [0.17857143 0.57142857 0.03571429 0.80555556] Precision:  [0.32258065 0.53333333 0.125      0.5147929 ]\n"
          ]
        },
        {
          "output_type": "display_data",
          "data": {
            "text/plain": [
              "<Figure size 640x480 with 1 Axes>"
            ],
            "image/png": "[encoded data removed]"
          },
          "metadata": {}
        }
      ],
      "source": [
        "# Use the filter approach for feature selection\n",
        "ks = np.arange(1, 11, 1)\n",
        "accs = []\n",
        "clf = SVC(kernel='linear')\n",
        "kf = StratifiedKFold(n_splits=5, shuffle = True)\n",
        "for k in ks:\n",
        "    print('--------------- Filter feature selection, k =', k)\n",
        "\n",
        "    cv_y_test = []\n",
        "    cv_y_pred = []\n",
        "\n",
        "    for train_index, test_index in kf.split(xAc, yAc):\n",
        "\n",
        "       # Training phase\n",
        "        x_train = xAc[train_index, :]\n",
        "        y_train = yAc[train_index]\n",
        "\n",
        "        ffs = SelectKBest(mutual_info_classif, k=k)\n",
        "        ffs.fit(x_train, y_train)\n",
        "        x_train = ffs.transform(x_train)\n",
        "\n",
        "        clf.fit(x_train, y_train)\n",
        "\n",
        "        # Test phase\n",
        "        x_test = ffs.transform(xAc[test_index, :])\n",
        "        y_test = yAc[test_index]\n",
        "        y_pred = clf.predict(x_test)\n",
        "\n",
        "        cv_y_test.append(y_test)\n",
        "        cv_y_pred.append(y_pred)\n",
        "\n",
        "    acc = accuracy_score(np.concatenate(cv_y_test), np.concatenate(cv_y_pred))\n",
        "    rec = recall_score(np.concatenate(cv_y_test), np.concatenate(cv_y_pred), average = None)\n",
        "    pre = precision_score(np.concatenate(cv_y_test), np.concatenate(cv_y_pred), average = None)\n",
        "\n",
        "    print('ACC: ', acc, 'Recall: ', rec, 'Precision: ', pre)\n",
        "    accs.append(acc)\n",
        "\n",
        "plt.plot(ks, accs)\n",
        "plt.xlabel('k')\n",
        "plt.ylabel('Accuracy')\n",
        "plt.title('Univariate filter for feature selection')\n",
        "plt.show()"
      ]
    },
    {
      "cell_type": "markdown",
      "metadata": {
        "id": "6GLujg2TTpgc"
      },
      "source": [
        "###Cognitivas MAYRA"
      ]
    },
    {
      "cell_type": "code",
      "execution_count": null,
      "metadata": {
        "id": "ZGcWVBDOTpgd",
        "colab": {
          "base_uri": "https://localhost:8080/",
          "height": 909
        },
        "outputId": "0547b630-024a-48d5-8af8-c36c33e49c58"
      },
      "outputs": [
        {
          "output_type": "stream",
          "name": "stdout",
          "text": [
            "--------------- Filter feature selection, k = 1\n"
          ]
        },
        {
          "output_type": "stream",
          "name": "stderr",
          "text": [
            "/usr/local/lib/python3.10/dist-packages/sklearn/metrics/_classification.py:1344: UndefinedMetricWarning: Precision is ill-defined and being set to 0.0 in labels with no predicted samples. Use `zero_division` parameter to control this behavior.\n",
            "  _warn_prf(average, modifier, msg_start, len(result))\n"
          ]
        },
        {
          "output_type": "stream",
          "name": "stdout",
          "text": [
            "ACC:  0.44 Recall:  [0.         0.53571429 0.         0.85046729] Precision:  [0.         0.46153846 0.         0.43333333]\n",
            "--------------- Filter feature selection, k = 2\n"
          ]
        },
        {
          "output_type": "stream",
          "name": "stderr",
          "text": [
            "/usr/local/lib/python3.10/dist-packages/sklearn/metrics/_classification.py:1344: UndefinedMetricWarning: Precision is ill-defined and being set to 0.0 in labels with no predicted samples. Use `zero_division` parameter to control this behavior.\n",
            "  _warn_prf(average, modifier, msg_start, len(result))\n"
          ]
        },
        {
          "output_type": "stream",
          "name": "stdout",
          "text": [
            "ACC:  0.4618181818181818 Recall:  [0.         0.66071429 0.         0.8411215 ] Precision:  [0.         0.50684932 0.         0.45454545]\n",
            "--------------- Filter feature selection, k = 3\n",
            "ACC:  0.44 Recall:  [0.         0.53571429 0.         0.85046729] Precision:  [0.         0.48387097 0.         0.44390244]\n",
            "--------------- Filter feature selection, k = 4\n",
            "ACC:  0.44727272727272727 Recall:  [0.01785714 0.53571429 0.03571429 0.8411215 ] Precision:  [0.16666667 0.48387097 0.22222222 0.45454545]\n",
            "--------------- Filter feature selection, k = 5\n",
            "ACC:  0.4690909090909091 Recall:  [0.01785714 0.57142857 0.03571429 0.87850467] Precision:  [1.         0.52459016 0.18181818 0.46534653]\n",
            "--------------- Filter feature selection, k = 6\n",
            "ACC:  0.44727272727272727 Recall:  [0.         0.58928571 0.07142857 0.80373832] Precision:  [0.         0.50769231 0.17391304 0.47252747]\n",
            "--------------- Filter feature selection, k = 7\n",
            "ACC:  0.4909090909090909 Recall:  [0.05357143 0.67857143 0.08928571 0.8317757 ] Precision:  [0.25       0.58461538 0.3125     0.48901099]\n",
            "--------------- Filter feature selection, k = 8\n",
            "ACC:  0.48363636363636364 Recall:  [0.10714286 0.58928571 0.07142857 0.8411215 ] Precision:  [0.35294118 0.55       0.22222222 0.5       ]\n",
            "--------------- Filter feature selection, k = 9\n",
            "ACC:  0.46545454545454545 Recall:  [0.03571429 0.60714286 0.08928571 0.81308411] Precision:  [0.13333333 0.55737705 0.26315789 0.48333333]\n",
            "--------------- Filter feature selection, k = 10\n",
            "ACC:  0.5018181818181818 Recall:  [0.05357143 0.69642857 0.07142857 0.85981308] Precision:  [0.2        0.61904762 0.21052632 0.51685393]\n"
          ]
        },
        {
          "output_type": "display_data",
          "data": {
            "text/plain": [
              "<Figure size 640x480 with 1 Axes>"
            ],
            "image/png": "[encoded data removed]"
          },
          "metadata": {}
        }
      ],
      "source": [
        "# Use the filter approach for feature selection\n",
        "ks = np.arange(1, 11, 1)\n",
        "accs = []\n",
        "clf = SVC(kernel='linear')\n",
        "kf = StratifiedKFold(n_splits=5, shuffle = True)\n",
        "for k in ks:\n",
        "    print('--------------- Filter feature selection, k =', k)\n",
        "\n",
        "    cv_y_test = []\n",
        "    cv_y_pred = []\n",
        "\n",
        "    for train_index, test_index in kf.split(xMc, yMc):\n",
        "\n",
        "       # Training phase\n",
        "        x_train = xMc[train_index, :]\n",
        "        y_train = yMc[train_index]\n",
        "\n",
        "        ffs = SelectKBest(mutual_info_classif, k=k)\n",
        "        ffs.fit(x_train, y_train)\n",
        "        x_train = ffs.transform(x_train)\n",
        "\n",
        "        clf.fit(x_train, y_train)\n",
        "\n",
        "        # Test phase\n",
        "        x_test = ffs.transform(xMc[test_index, :])\n",
        "        y_test = yMc[test_index]\n",
        "        y_pred = clf.predict(x_test)\n",
        "\n",
        "        cv_y_test.append(y_test)\n",
        "        cv_y_pred.append(y_pred)\n",
        "\n",
        "    acc = accuracy_score(np.concatenate(cv_y_test), np.concatenate(cv_y_pred))\n",
        "    rec = recall_score(np.concatenate(cv_y_test), np.concatenate(cv_y_pred), average = None)\n",
        "    pre = precision_score(np.concatenate(cv_y_test), np.concatenate(cv_y_pred), average = None)\n",
        "\n",
        "    print('ACC: ', acc, 'Recall: ', rec, 'Precision: ', pre)\n",
        "    accs.append(acc)\n",
        "\n",
        "plt.plot(ks, accs)\n",
        "plt.xlabel('k')\n",
        "plt.ylabel('Accuracy')\n",
        "plt.title('Univariate filter for feature selection')\n",
        "plt.show()"
      ]
    },
    {
      "cell_type": "markdown",
      "metadata": {
        "id": "_7IbTKczTqfn"
      },
      "source": [
        "###Cognitivas Raúl"
      ]
    },
    {
      "cell_type": "code",
      "execution_count": null,
      "metadata": {
        "colab": {
          "base_uri": "https://localhost:8080/",
          "height": 819
        },
        "id": "QD3D28KCTqf0",
        "outputId": "f64a5c1b-8cb0-433f-a8e4-95c4819d76c6"
      },
      "outputs": [
        {
          "output_type": "stream",
          "name": "stdout",
          "text": [
            "--------------- Filter feature selection, k = 1\n",
            "ACC:  0.5714285714285714 Recall:  [0.16071429 0.73214286 0.14285714 0.93333333] Precision:  [0.32142857 0.65079365 0.2962963  0.63225806]\n",
            "--------------- Filter feature selection, k = 2\n",
            "ACC:  0.5531135531135531 Recall:  [0.08928571 0.73214286 0.19642857 0.8952381 ] Precision:  [0.2173913  0.67213115 0.28205128 0.62666667]\n",
            "--------------- Filter feature selection, k = 3\n",
            "ACC:  0.5897435897435898 Recall:  [0.17857143 0.78571429 0.23214286 0.8952381 ] Precision:  [0.37037037 0.6984127  0.38235294 0.63087248]\n",
            "--------------- Filter feature selection, k = 4\n",
            "ACC:  0.5860805860805861 Recall:  [0.23214286 0.76785714 0.17857143 0.8952381 ] Precision:  [0.41935484 0.68253968 0.3030303  0.64383562]\n",
            "--------------- Filter feature selection, k = 5\n",
            "ACC:  0.6153846153846154 Recall:  [0.21428571 0.80357143 0.28571429 0.9047619 ] Precision:  [0.4137931  0.69230769 0.45714286 0.65972222]\n",
            "--------------- Filter feature selection, k = 6\n",
            "ACC:  0.6007326007326007 Recall:  [0.26785714 0.73214286 0.30357143 0.86666667] Precision:  [0.42857143 0.71929825 0.43589744 0.64084507]\n",
            "--------------- Filter feature selection, k = 7\n",
            "ACC:  0.608058608058608 Recall:  [0.19642857 0.76785714 0.35714286 0.87619048] Precision:  [0.34375    0.75438596 0.46511628 0.65248227]\n",
            "--------------- Filter feature selection, k = 8\n",
            "ACC:  0.6190476190476191 Recall:  [0.33928571 0.76785714 0.30357143 0.85714286] Precision:  [0.5        0.76785714 0.44736842 0.63829787]\n",
            "--------------- Filter feature selection, k = 9\n",
            "ACC:  0.6007326007326007 Recall:  [0.33928571 0.71428571 0.30357143 0.83809524] Precision:  [0.45238095 0.74074074 0.41463415 0.64705882]\n",
            "--------------- Filter feature selection, k = 10\n",
            "ACC:  0.6263736263736264 Recall:  [0.375      0.76785714 0.32142857 0.84761905] Precision:  [0.46666667 0.76785714 0.45       0.67424242]\n"
          ]
        },
        {
          "output_type": "display_data",
          "data": {
            "text/plain": [
              "<Figure size 640x480 with 1 Axes>"
            ],
            "image/png": "[encoded data removed]"
          },
          "metadata": {}
        }
      ],
      "source": [
        "# Use the filter approach for feature selection\n",
        "ks = np.arange(1, 11, 1)\n",
        "accs = []\n",
        "clf = SVC(kernel='linear')\n",
        "kf = StratifiedKFold(n_splits=5, shuffle = True)\n",
        "for k in ks:\n",
        "    print('--------------- Filter feature selection, k =', k)\n",
        "\n",
        "    cv_y_test = []\n",
        "    cv_y_pred = []\n",
        "\n",
        "    for train_index, test_index in kf.split(xRc, yRc):\n",
        "\n",
        "       # Training phase\n",
        "        x_train = xRc[train_index, :]\n",
        "        y_train = yRc[train_index]\n",
        "\n",
        "        ffs = SelectKBest(mutual_info_classif, k=k)\n",
        "        ffs.fit(x_train, y_train)\n",
        "        x_train = ffs.transform(x_train)\n",
        "\n",
        "        clf.fit(x_train, y_train)\n",
        "\n",
        "        # Test phase\n",
        "        x_test = ffs.transform(xRc[test_index, :])\n",
        "        y_test = yRc[test_index]\n",
        "        y_pred = clf.predict(x_test)\n",
        "\n",
        "        cv_y_test.append(y_test)\n",
        "        cv_y_pred.append(y_pred)\n",
        "\n",
        "    acc = accuracy_score(np.concatenate(cv_y_test), np.concatenate(cv_y_pred))\n",
        "    rec = recall_score(np.concatenate(cv_y_test), np.concatenate(cv_y_pred), average = None)\n",
        "    pre = precision_score(np.concatenate(cv_y_test), np.concatenate(cv_y_pred), average = None)\n",
        "\n",
        "    print('ACC: ', acc, 'Recall: ', rec, 'Precision: ', pre)\n",
        "    accs.append(acc)\n",
        "\n",
        "plt.plot(ks, accs)\n",
        "plt.xlabel('k')\n",
        "plt.ylabel('Accuracy')\n",
        "plt.title('Univariate filter for feature selection')\n",
        "plt.show()"
      ]
    },
    {
      "cell_type": "markdown",
      "metadata": {
        "id": "NQPvewkgU5NR"
      },
      "source": [
        "###Cognitivas vs no cognitivas Antonio"
      ]
    },
    {
      "cell_type": "code",
      "execution_count": null,
      "metadata": {
        "colab": {
          "base_uri": "https://localhost:8080/",
          "height": 819
        },
        "id": "Pg-XZ1vAU5NR",
        "outputId": "5386c36f-4f06-46b1-fdb3-0702920ec6f4"
      },
      "outputs": [
        {
          "output_type": "stream",
          "name": "stdout",
          "text": [
            "--------------- Filter feature selection, k = 1\n",
            "ACC:  0.6159420289855072 Recall:  [0.94642857 0.10185185] Precision:  [0.62109375 0.55      ]\n",
            "--------------- Filter feature selection, k = 2\n",
            "ACC:  0.6231884057971014 Recall:  [0.95833333 0.10185185] Precision:  [0.62403101 0.61111111]\n",
            "--------------- Filter feature selection, k = 3\n",
            "ACC:  0.644927536231884 Recall:  [0.91666667 0.22222222] Precision:  [0.64705882 0.63157895]\n",
            "--------------- Filter feature selection, k = 4\n",
            "ACC:  0.6594202898550725 Recall:  [0.86309524 0.34259259] Precision:  [0.6712963  0.61666667]\n",
            "--------------- Filter feature selection, k = 5\n",
            "ACC:  0.6630434782608695 Recall:  [0.85714286 0.36111111] Precision:  [0.67605634 0.61904762]\n",
            "--------------- Filter feature selection, k = 6\n",
            "ACC:  0.6594202898550725 Recall:  [0.78571429 0.46296296] Precision:  [0.69473684 0.58139535]\n",
            "--------------- Filter feature selection, k = 7\n",
            "ACC:  0.6630434782608695 Recall:  [0.80357143 0.44444444] Precision:  [0.69230769 0.59259259]\n",
            "--------------- Filter feature selection, k = 8\n",
            "ACC:  0.6666666666666666 Recall:  [0.80357143 0.4537037 ] Precision:  [0.69587629 0.59756098]\n",
            "--------------- Filter feature selection, k = 9\n",
            "ACC:  0.6702898550724637 Recall:  [0.85119048 0.38888889] Precision:  [0.68421053 0.62686567]\n",
            "--------------- Filter feature selection, k = 10\n",
            "ACC:  0.6666666666666666 Recall:  [0.7797619  0.49074074] Precision:  [0.70430108 0.58888889]\n"
          ]
        },
        {
          "output_type": "display_data",
          "data": {
            "text/plain": [
              "<Figure size 640x480 with 1 Axes>"
            ],
            "image/png": "[encoded data removed]"
          },
          "metadata": {}
        }
      ],
      "source": [
        "# Use the filter approach for feature selection\n",
        "ks = np.arange(1, 11, 1)\n",
        "accs = []\n",
        "clf = SVC(kernel='linear')\n",
        "kf = StratifiedKFold(n_splits=5, shuffle = True)\n",
        "for k in ks:\n",
        "    print('--------------- Filter feature selection, k =', k)\n",
        "\n",
        "    cv_y_test = []\n",
        "    cv_y_pred = []\n",
        "\n",
        "    for train_index, test_index in kf.split(xAcc, yAcc):\n",
        "\n",
        "       # Training phase\n",
        "        x_train = xAcc[train_index, :]\n",
        "        y_train = yAcc[train_index]\n",
        "\n",
        "        ffs = SelectKBest(mutual_info_classif, k=k)\n",
        "        ffs.fit(x_train, y_train)\n",
        "        x_train = ffs.transform(x_train)\n",
        "\n",
        "        clf.fit(x_train, y_train)\n",
        "\n",
        "        # Test phase\n",
        "        x_test = ffs.transform(xAcc[test_index, :])\n",
        "        y_test = yAcc[test_index]\n",
        "        y_pred = clf.predict(x_test)\n",
        "\n",
        "        cv_y_test.append(y_test)\n",
        "        cv_y_pred.append(y_pred)\n",
        "\n",
        "    acc = accuracy_score(np.concatenate(cv_y_test), np.concatenate(cv_y_pred))\n",
        "    rec = recall_score(np.concatenate(cv_y_test), np.concatenate(cv_y_pred), average = None)\n",
        "    pre = precision_score(np.concatenate(cv_y_test), np.concatenate(cv_y_pred), average = None)\n",
        "\n",
        "    print('ACC: ', acc, 'Recall: ', rec, 'Precision: ', pre)\n",
        "    accs.append(acc)\n",
        "\n",
        "plt.plot(ks, accs)\n",
        "plt.xlabel('k')\n",
        "plt.ylabel('Accuracy')\n",
        "plt.title('Univariate filter for feature selection')\n",
        "plt.show()"
      ]
    },
    {
      "cell_type": "markdown",
      "metadata": {
        "id": "_1tPQ0H0U5NS"
      },
      "source": [
        "###Cognitivas vs no cognitivas MAYRA"
      ]
    },
    {
      "cell_type": "code",
      "execution_count": null,
      "metadata": {
        "colab": {
          "base_uri": "https://localhost:8080/",
          "height": 874
        },
        "id": "zyvtLdFiU5NS",
        "outputId": "1158303b-655a-45aa-ffa9-2b6a3a2fef9b"
      },
      "outputs": [
        {
          "output_type": "stream",
          "name": "stdout",
          "text": [
            "--------------- Filter feature selection, k = 1\n"
          ]
        },
        {
          "output_type": "stream",
          "name": "stderr",
          "text": [
            "/usr/local/lib/python3.10/dist-packages/sklearn/metrics/_classification.py:1344: UndefinedMetricWarning: Precision is ill-defined and being set to 0.0 in labels with no predicted samples. Use `zero_division` parameter to control this behavior.\n",
            "  _warn_prf(average, modifier, msg_start, len(result))\n"
          ]
        },
        {
          "output_type": "stream",
          "name": "stdout",
          "text": [
            "ACC:  0.610909090909091 Recall:  [1. 0.] Precision:  [0.61090909 0.        ]\n",
            "--------------- Filter feature selection, k = 2\n",
            "ACC:  0.6290909090909091 Recall:  [0.98809524 0.06542056] Precision:  [0.62406015 0.77777778]\n",
            "--------------- Filter feature selection, k = 3\n",
            "ACC:  0.6327272727272727 Recall:  [0.92857143 0.1682243 ] Precision:  [0.63673469 0.6       ]\n",
            "--------------- Filter feature selection, k = 4\n",
            "ACC:  0.6145454545454545 Recall:  [0.83333333 0.27102804] Precision:  [0.64220183 0.50877193]\n",
            "--------------- Filter feature selection, k = 5\n",
            "ACC:  0.6472727272727272 Recall:  [0.81547619 0.38317757] Precision:  [0.67487685 0.56944444]\n",
            "--------------- Filter feature selection, k = 6\n",
            "ACC:  0.6654545454545454 Recall:  [0.88095238 0.3271028 ] Precision:  [0.67272727 0.63636364]\n",
            "--------------- Filter feature selection, k = 7\n",
            "ACC:  0.6618181818181819 Recall:  [0.875     0.3271028] Precision:  [0.67123288 0.625     ]\n",
            "--------------- Filter feature selection, k = 8\n",
            "ACC:  0.6436363636363637 Recall:  [0.83333333 0.34579439] Precision:  [0.66666667 0.56923077]\n",
            "--------------- Filter feature selection, k = 9\n",
            "ACC:  0.6618181818181819 Recall:  [0.85119048 0.36448598] Precision:  [0.67772512 0.609375  ]\n",
            "--------------- Filter feature selection, k = 10\n",
            "ACC:  0.6363636363636364 Recall:  [0.85119048 0.29906542] Precision:  [0.6559633  0.56140351]\n"
          ]
        },
        {
          "output_type": "display_data",
          "data": {
            "text/plain": [
              "<Figure size 640x480 with 1 Axes>"
            ],
            "image/png": "[encoded data removed]"
          },
          "metadata": {}
        }
      ],
      "source": [
        "# Use the filter approach for feature selection\n",
        "ks = np.arange(1, 11, 1)\n",
        "accs = []\n",
        "clf = SVC(kernel='linear')\n",
        "kf = StratifiedKFold(n_splits=5, shuffle = True)\n",
        "for k in ks:\n",
        "    print('--------------- Filter feature selection, k =', k)\n",
        "\n",
        "    cv_y_test = []\n",
        "    cv_y_pred = []\n",
        "\n",
        "    for train_index, test_index in kf.split(xMcc, yMcc):\n",
        "\n",
        "       # Training phase\n",
        "        x_train = xMcc[train_index, :]\n",
        "        y_train = yMcc[train_index]\n",
        "\n",
        "        ffs = SelectKBest(mutual_info_classif, k=k)\n",
        "        ffs.fit(x_train, y_train)\n",
        "        x_train = ffs.transform(x_train)\n",
        "\n",
        "        clf.fit(x_train, y_train)\n",
        "\n",
        "        # Test phase\n",
        "        x_test = ffs.transform(xMcc[test_index, :])\n",
        "        y_test = yMcc[test_index]\n",
        "        y_pred = clf.predict(x_test)\n",
        "\n",
        "        cv_y_test.append(y_test)\n",
        "        cv_y_pred.append(y_pred)\n",
        "\n",
        "    acc = accuracy_score(np.concatenate(cv_y_test), np.concatenate(cv_y_pred))\n",
        "    rec = recall_score(np.concatenate(cv_y_test), np.concatenate(cv_y_pred), average = None)\n",
        "    pre = precision_score(np.concatenate(cv_y_test), np.concatenate(cv_y_pred), average = None)\n",
        "\n",
        "    print('ACC: ', acc, 'Recall: ', rec, 'Precision: ', pre)\n",
        "    accs.append(acc)\n",
        "\n",
        "plt.plot(ks, accs)\n",
        "plt.xlabel('k')\n",
        "plt.ylabel('Accuracy')\n",
        "plt.title('Univariate filter for feature selection')\n",
        "plt.show()"
      ]
    },
    {
      "cell_type": "markdown",
      "metadata": {
        "id": "MnDgySs_U5NT"
      },
      "source": [
        "###Cognitivas Raúl"
      ]
    },
    {
      "cell_type": "code",
      "execution_count": null,
      "metadata": {
        "colab": {
          "base_uri": "https://localhost:8080/",
          "height": 819
        },
        "id": "lJNw44fFU5NT",
        "outputId": "6632bf9a-7cef-4c6e-bd3b-7dff1ba94550"
      },
      "outputs": [
        {
          "output_type": "stream",
          "name": "stdout",
          "text": [
            "--------------- Filter feature selection, k = 1\n",
            "ACC:  0.7948717948717948 Recall:  [0.80357143 0.78095238] Precision:  [0.85443038 0.71304348]\n",
            "--------------- Filter feature selection, k = 2\n",
            "ACC:  0.7912087912087912 Recall:  [0.79761905 0.78095238] Precision:  [0.85350318 0.70689655]\n",
            "--------------- Filter feature selection, k = 3\n",
            "ACC:  0.7912087912087912 Recall:  [0.79761905 0.78095238] Precision:  [0.85350318 0.70689655]\n",
            "--------------- Filter feature selection, k = 4\n",
            "ACC:  0.7875457875457875 Recall:  [0.80357143 0.76190476] Precision:  [0.84375   0.7079646]\n",
            "--------------- Filter feature selection, k = 5\n",
            "ACC:  0.7912087912087912 Recall:  [0.80357143 0.77142857] Precision:  [0.8490566  0.71052632]\n",
            "--------------- Filter feature selection, k = 6\n",
            "ACC:  0.7985347985347986 Recall:  [0.81547619 0.77142857] Precision:  [0.85093168 0.72321429]\n",
            "--------------- Filter feature selection, k = 7\n",
            "ACC:  0.7948717948717948 Recall:  [0.80357143 0.78095238] Precision:  [0.85443038 0.71304348]\n",
            "--------------- Filter feature selection, k = 8\n",
            "ACC:  0.7985347985347986 Recall:  [0.79166667 0.80952381] Precision:  [0.86928105 0.70833333]\n",
            "--------------- Filter feature selection, k = 9\n",
            "ACC:  0.7838827838827839 Recall:  [0.79761905 0.76190476] Precision:  [0.8427673  0.70175439]\n",
            "--------------- Filter feature selection, k = 10\n",
            "ACC:  0.7875457875457875 Recall:  [0.79166667 0.78095238] Precision:  [0.8525641 0.7008547]\n"
          ]
        },
        {
          "output_type": "display_data",
          "data": {
            "text/plain": [
              "<Figure size 640x480 with 1 Axes>"
            ],
            "image/png": "[encoded data removed]"
          },
          "metadata": {}
        }
      ],
      "source": [
        "# Use the filter approach for feature selection\n",
        "ks = np.arange(1, 11, 1)\n",
        "accs = []\n",
        "clf = SVC(kernel='linear')\n",
        "kf = StratifiedKFold(n_splits=5, shuffle = True)\n",
        "for k in ks:\n",
        "    print('--------------- Filter feature selection, k =', k)\n",
        "\n",
        "    cv_y_test = []\n",
        "    cv_y_pred = []\n",
        "\n",
        "    for train_index, test_index in kf.split(xRcc, yRcc):\n",
        "\n",
        "       # Training phase\n",
        "        x_train = xRcc[train_index, :]\n",
        "        y_train = yRcc[train_index]\n",
        "\n",
        "        ffs = SelectKBest(mutual_info_classif, k=k)\n",
        "        ffs.fit(x_train, y_train)\n",
        "        x_train = ffs.transform(x_train)\n",
        "\n",
        "        clf.fit(x_train, y_train)\n",
        "\n",
        "        # Test phase\n",
        "        x_test = ffs.transform(xRcc[test_index, :])\n",
        "        y_test = yRcc[test_index]\n",
        "        y_pred = clf.predict(x_test)\n",
        "\n",
        "        cv_y_test.append(y_test)\n",
        "        cv_y_pred.append(y_pred)\n",
        "\n",
        "    acc = accuracy_score(np.concatenate(cv_y_test), np.concatenate(cv_y_pred))\n",
        "    rec = recall_score(np.concatenate(cv_y_test), np.concatenate(cv_y_pred), average = None)\n",
        "    pre = precision_score(np.concatenate(cv_y_test), np.concatenate(cv_y_pred), average = None)\n",
        "\n",
        "    print('ACC: ', acc, 'Recall: ', rec, 'Precision: ', pre)\n",
        "    accs.append(acc)\n",
        "\n",
        "plt.plot(ks, accs)\n",
        "plt.xlabel('k')\n",
        "plt.ylabel('Accuracy')\n",
        "plt.title('Univariate filter for feature selection')\n",
        "plt.show()"
      ]
    },
    {
      "cell_type": "markdown",
      "metadata": {
        "id": "CbHggqEyD3mN"
      },
      "source": [
        "##Aprendizaje por transferencia\n",
        "\n",
        "Para esta etapa del proyecto, consideren únicamente los datos del experimento de P300. Para al menos dos clasificadores probados en el paso anterior, entrenen el modelo con uno de los archivos de datos de uno de los sujetos, y prueben dicho modelo con otro de los archivos de datos de otra persona. Reporte el rendimiento del modelo.\n",
        "\n",
        "Conteste las siguientes preguntas:\n",
        "\n",
        "- ¿Es posible entrenar un modelo de clasificación con los datos de un sujeto y obtener buenos resultados con los datos de otro sujeto? ¿Por qué?\n",
        "- ¿Consideras que debes hacer ajustes cuando tengas datos de otro sujeto?"
      ]
    },
    {
      "cell_type": "markdown",
      "metadata": {
        "id": "m_nDTUZoW3dp"
      },
      "source": [
        "Clasificador SVM"
      ]
    },
    {
      "cell_type": "code",
      "execution_count": null,
      "metadata": {
        "colab": {
          "background_save": true
        },
        "id": "n80fNHkPWEAZ",
        "outputId": "28b01e73-a48e-4bc0-a389-b2821a1fbf81"
      },
      "outputs": [
        {
          "name": "stdout",
          "output_type": "stream",
          "text": [
            "              precision    recall  f1-score   support\n",
            "\n",
            "           1       0.08      0.02      0.03        92\n",
            "           2       0.79      0.93      0.86       364\n",
            "\n",
            "    accuracy                           0.75       456\n",
            "   macro avg       0.43      0.48      0.45       456\n",
            "weighted avg       0.65      0.75      0.69       456\n",
            "\n"
          ]
        }
      ],
      "source": [
        "# Datos de entrenamiento: Antonio\n",
        "X_train = xA\n",
        "y_train = yA\n",
        "\n",
        "# Datos de prueba: Mayra\n",
        "X_test = xM\n",
        "y_test = yM\n",
        "\n",
        "# Creación del modelo SVM radial\n",
        "model = SVC(kernel='rbf')\n",
        "\n",
        "# Entrenamiento del modelo\n",
        "model.fit(X_train, y_train)\n",
        "\n",
        "# Prueba del modelo\n",
        "y_pred = model.predict(X_test)\n",
        "\n",
        "print(classification_report(y_test, y_pred))"
      ]
    },
    {
      "cell_type": "markdown",
      "metadata": {
        "id": "9rb9r5zUW9vh"
      },
      "source": [
        "Clasificador KNN"
      ]
    },
    {
      "cell_type": "code",
      "execution_count": null,
      "metadata": {
        "colab": {
          "background_save": true
        },
        "id": "l_wo-7ViW9vh",
        "outputId": "5b89fb6e-7dc8-43ae-8940-c1a3b9f3c573"
      },
      "outputs": [
        {
          "name": "stdout",
          "output_type": "stream",
          "text": [
            "              precision    recall  f1-score   support\n",
            "\n",
            "           1       0.11      0.02      0.04        92\n",
            "           2       0.79      0.95      0.87       364\n",
            "\n",
            "    accuracy                           0.77       456\n",
            "   macro avg       0.45      0.49      0.45       456\n",
            "weighted avg       0.66      0.77      0.70       456\n",
            "\n"
          ]
        }
      ],
      "source": [
        "# Datos de entrenamiento: Antonio\n",
        "X_train = xA\n",
        "y_train = yA\n",
        "\n",
        "# Datos de prueba: Mayra\n",
        "X_test = xM\n",
        "y_test = yM\n",
        "\n",
        "# Creación del modelo KNN\n",
        "model = KNeighborsClassifier(n_neighbors = 5)\n",
        "\n",
        "# Entrenamiento del modelo\n",
        "model.fit(X_train, y_train)\n",
        "\n",
        "# Prueba del modelo\n",
        "y_pred = model.predict(X_test)\n",
        "\n",
        "print(classification_report(y_test, y_pred))"
      ]
    },
    {
      "cell_type": "markdown",
      "metadata": {
        "id": "J_vGud9yW-O2"
      },
      "source": [
        "Clasificador Random Forest Classifier"
      ]
    },
    {
      "cell_type": "code",
      "execution_count": null,
      "metadata": {
        "colab": {
          "background_save": true
        },
        "id": "IvKQVDh6W-O2",
        "outputId": "b9c0f1cc-b5c3-4bd1-9d39-c31d32946388"
      },
      "outputs": [
        {
          "name": "stdout",
          "output_type": "stream",
          "text": [
            "              precision    recall  f1-score   support\n",
            "\n",
            "           1       0.06      0.01      0.02        92\n",
            "           2       0.79      0.96      0.87       364\n",
            "\n",
            "    accuracy                           0.77       456\n",
            "   macro avg       0.43      0.48      0.44       456\n",
            "weighted avg       0.65      0.77      0.70       456\n",
            "\n"
          ]
        }
      ],
      "source": [
        "# Datos de entrenamiento: Antonio\n",
        "X_train = xA\n",
        "y_train = yA\n",
        "\n",
        "# Datos de prueba: Mayra\n",
        "X_test = xM\n",
        "y_test = yM\n",
        "\n",
        "# Creación del clasificador Random Forest\n",
        "model = RandomForestClassifier()\n",
        "\n",
        "# Entrenamiento del modelo\n",
        "model.fit(X_train, y_train)\n",
        "\n",
        "# Prueba del modelo\n",
        "y_pred = model.predict(X_test)\n",
        "\n",
        "print(classification_report(y_test, y_pred))"
      ]
    },
    {
      "cell_type": "markdown",
      "metadata": {
        "id": "vdTVC8WiXfvI"
      },
      "source": [
        "\n",
        "- ¿Es posible entrenar un modelo de clasificación con los datos de un sujeto y obtener buenos resultados con los datos de otro sujeto? ¿Por qué?\n",
        "\n",
        "Sí es posible, en un caso en el que las bases de datos estén balanceadas y los sujetos no tengan datos tan dispersos. Sin embargo, este no es el caso y por esto, el accuracy es un poco bajo. Como se puede observar en los 3 modelos de clasificación tenía alrededor de 75 de accuracy, influye mucho que las bases de datos no estén balanceadas, al igual que influye mucho las diferencias que tengan las características y datos de los sujetos.\n",
        "\n",
        "- ¿Consideras que debes hacer ajustes cuando tengas datos de otro sujeto?\n",
        "\n",
        "Sí, se deben hacer varios ajustes para poder tener un buen accuracy. Alguna de esos ajustes son:\n",
        "\n",
        "a) La estandarización y normalización de los datos.\n",
        "\n",
        "b) Utilizar la validación cruzeada.\n",
        "\n",
        "c) Balancear las bases de datos.\n",
        "\n",
        "d) Inferir datos adicionales por medio de la inteligencia artificial.\n",
        "\n",
        "e) Utilizar el aprendizaje por transferencia."
      ]
    }
  ],
  "metadata": {
    "colab": {
      "provenance": []
    },
    "kernelspec": {
      "display_name": "Python 3",
      "name": "python3"
    },
    "language_info": {
      "name": "python"
    }
  },
  "nbformat": 4,
  "nbformat_minor": 0
}
